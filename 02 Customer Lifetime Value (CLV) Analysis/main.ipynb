{
 "cells": [
  {
   "cell_type": "markdown",
   "id": "1928446c",
   "metadata": {},
   "source": [
    "# Dataset download and Import libs"
   ]
  },
  {
   "cell_type": "code",
   "execution_count": 1,
   "id": "8b32bd49",
   "metadata": {},
   "outputs": [
    {
     "data": {
      "application/vnd.microsoft.datawrangler.viewer.v0+json": {
       "columns": [
        {
         "name": "index",
         "rawType": "int64",
         "type": "integer"
        },
        {
         "name": "InvoiceNo",
         "rawType": "object",
         "type": "string"
        },
        {
         "name": "StockCode",
         "rawType": "object",
         "type": "string"
        },
        {
         "name": "Description",
         "rawType": "object",
         "type": "unknown"
        },
        {
         "name": "Quantity",
         "rawType": "int64",
         "type": "integer"
        },
        {
         "name": "InvoiceDate",
         "rawType": "object",
         "type": "string"
        },
        {
         "name": "UnitPrice",
         "rawType": "float64",
         "type": "float"
        },
        {
         "name": "CustomerID",
         "rawType": "float64",
         "type": "float"
        },
        {
         "name": "Country",
         "rawType": "object",
         "type": "string"
        }
       ],
       "conversionMethod": "pd.DataFrame",
       "ref": "8aa2297b-6a53-4ef3-a045-48b0b06f0e3f",
       "rows": [
        [
         "0",
         "536365",
         "85123A",
         "WHITE HANGING HEART T-LIGHT HOLDER",
         "6",
         "12/1/2010 8:26",
         "2.55",
         "17850.0",
         "United Kingdom"
        ],
        [
         "1",
         "536365",
         "71053",
         "WHITE METAL LANTERN",
         "6",
         "12/1/2010 8:26",
         "3.39",
         "17850.0",
         "United Kingdom"
        ],
        [
         "2",
         "536365",
         "84406B",
         "CREAM CUPID HEARTS COAT HANGER",
         "8",
         "12/1/2010 8:26",
         "2.75",
         "17850.0",
         "United Kingdom"
        ],
        [
         "3",
         "536365",
         "84029G",
         "KNITTED UNION FLAG HOT WATER BOTTLE",
         "6",
         "12/1/2010 8:26",
         "3.39",
         "17850.0",
         "United Kingdom"
        ],
        [
         "4",
         "536365",
         "84029E",
         "RED WOOLLY HOTTIE WHITE HEART.",
         "6",
         "12/1/2010 8:26",
         "3.39",
         "17850.0",
         "United Kingdom"
        ],
        [
         "5",
         "536365",
         "22752",
         "SET 7 BABUSHKA NESTING BOXES",
         "2",
         "12/1/2010 8:26",
         "7.65",
         "17850.0",
         "United Kingdom"
        ],
        [
         "6",
         "536365",
         "21730",
         "GLASS STAR FROSTED T-LIGHT HOLDER",
         "6",
         "12/1/2010 8:26",
         "4.25",
         "17850.0",
         "United Kingdom"
        ],
        [
         "7",
         "536366",
         "22633",
         "HAND WARMER UNION JACK",
         "6",
         "12/1/2010 8:28",
         "1.85",
         "17850.0",
         "United Kingdom"
        ],
        [
         "8",
         "536366",
         "22632",
         "HAND WARMER RED POLKA DOT",
         "6",
         "12/1/2010 8:28",
         "1.85",
         "17850.0",
         "United Kingdom"
        ],
        [
         "9",
         "536367",
         "84879",
         "ASSORTED COLOUR BIRD ORNAMENT",
         "32",
         "12/1/2010 8:34",
         "1.69",
         "13047.0",
         "United Kingdom"
        ],
        [
         "10",
         "536367",
         "22745",
         "POPPY'S PLAYHOUSE BEDROOM ",
         "6",
         "12/1/2010 8:34",
         "2.1",
         "13047.0",
         "United Kingdom"
        ],
        [
         "11",
         "536367",
         "22748",
         "POPPY'S PLAYHOUSE KITCHEN",
         "6",
         "12/1/2010 8:34",
         "2.1",
         "13047.0",
         "United Kingdom"
        ],
        [
         "12",
         "536367",
         "22749",
         "FELTCRAFT PRINCESS CHARLOTTE DOLL",
         "8",
         "12/1/2010 8:34",
         "3.75",
         "13047.0",
         "United Kingdom"
        ],
        [
         "13",
         "536367",
         "22310",
         "IVORY KNITTED MUG COSY ",
         "6",
         "12/1/2010 8:34",
         "1.65",
         "13047.0",
         "United Kingdom"
        ],
        [
         "14",
         "536367",
         "84969",
         "BOX OF 6 ASSORTED COLOUR TEASPOONS",
         "6",
         "12/1/2010 8:34",
         "4.25",
         "13047.0",
         "United Kingdom"
        ],
        [
         "15",
         "536367",
         "22623",
         "BOX OF VINTAGE JIGSAW BLOCKS ",
         "3",
         "12/1/2010 8:34",
         "4.95",
         "13047.0",
         "United Kingdom"
        ],
        [
         "16",
         "536367",
         "22622",
         "BOX OF VINTAGE ALPHABET BLOCKS",
         "2",
         "12/1/2010 8:34",
         "9.95",
         "13047.0",
         "United Kingdom"
        ],
        [
         "17",
         "536367",
         "21754",
         "HOME BUILDING BLOCK WORD",
         "3",
         "12/1/2010 8:34",
         "5.95",
         "13047.0",
         "United Kingdom"
        ],
        [
         "18",
         "536367",
         "21755",
         "LOVE BUILDING BLOCK WORD",
         "3",
         "12/1/2010 8:34",
         "5.95",
         "13047.0",
         "United Kingdom"
        ],
        [
         "19",
         "536367",
         "21777",
         "RECIPE BOX WITH METAL HEART",
         "4",
         "12/1/2010 8:34",
         "7.95",
         "13047.0",
         "United Kingdom"
        ],
        [
         "20",
         "536367",
         "48187",
         "DOORMAT NEW ENGLAND",
         "4",
         "12/1/2010 8:34",
         "7.95",
         "13047.0",
         "United Kingdom"
        ],
        [
         "21",
         "536368",
         "22960",
         "JAM MAKING SET WITH JARS",
         "6",
         "12/1/2010 8:34",
         "4.25",
         "13047.0",
         "United Kingdom"
        ],
        [
         "22",
         "536368",
         "22913",
         "RED COAT RACK PARIS FASHION",
         "3",
         "12/1/2010 8:34",
         "4.95",
         "13047.0",
         "United Kingdom"
        ],
        [
         "23",
         "536368",
         "22912",
         "YELLOW COAT RACK PARIS FASHION",
         "3",
         "12/1/2010 8:34",
         "4.95",
         "13047.0",
         "United Kingdom"
        ],
        [
         "24",
         "536368",
         "22914",
         "BLUE COAT RACK PARIS FASHION",
         "3",
         "12/1/2010 8:34",
         "4.95",
         "13047.0",
         "United Kingdom"
        ],
        [
         "25",
         "536369",
         "21756",
         "BATH BUILDING BLOCK WORD",
         "3",
         "12/1/2010 8:35",
         "5.95",
         "13047.0",
         "United Kingdom"
        ],
        [
         "26",
         "536370",
         "22728",
         "ALARM CLOCK BAKELIKE PINK",
         "24",
         "12/1/2010 8:45",
         "3.75",
         "12583.0",
         "France"
        ],
        [
         "27",
         "536370",
         "22727",
         "ALARM CLOCK BAKELIKE RED ",
         "24",
         "12/1/2010 8:45",
         "3.75",
         "12583.0",
         "France"
        ],
        [
         "28",
         "536370",
         "22726",
         "ALARM CLOCK BAKELIKE GREEN",
         "12",
         "12/1/2010 8:45",
         "3.75",
         "12583.0",
         "France"
        ],
        [
         "29",
         "536370",
         "21724",
         "PANDA AND BUNNIES STICKER SHEET",
         "12",
         "12/1/2010 8:45",
         "0.85",
         "12583.0",
         "France"
        ],
        [
         "30",
         "536370",
         "21883",
         "STARS GIFT TAPE ",
         "24",
         "12/1/2010 8:45",
         "0.65",
         "12583.0",
         "France"
        ],
        [
         "31",
         "536370",
         "10002",
         "INFLATABLE POLITICAL GLOBE ",
         "48",
         "12/1/2010 8:45",
         "0.85",
         "12583.0",
         "France"
        ],
        [
         "32",
         "536370",
         "21791",
         "VINTAGE HEADS AND TAILS CARD GAME ",
         "24",
         "12/1/2010 8:45",
         "1.25",
         "12583.0",
         "France"
        ],
        [
         "33",
         "536370",
         "21035",
         "SET/2 RED RETROSPOT TEA TOWELS ",
         "18",
         "12/1/2010 8:45",
         "2.95",
         "12583.0",
         "France"
        ],
        [
         "34",
         "536370",
         "22326",
         "ROUND SNACK BOXES SET OF4 WOODLAND ",
         "24",
         "12/1/2010 8:45",
         "2.95",
         "12583.0",
         "France"
        ],
        [
         "35",
         "536370",
         "22629",
         "SPACEBOY LUNCH BOX ",
         "24",
         "12/1/2010 8:45",
         "1.95",
         "12583.0",
         "France"
        ],
        [
         "36",
         "536370",
         "22659",
         "LUNCH BOX I LOVE LONDON",
         "24",
         "12/1/2010 8:45",
         "1.95",
         "12583.0",
         "France"
        ],
        [
         "37",
         "536370",
         "22631",
         "CIRCUS PARADE LUNCH BOX ",
         "24",
         "12/1/2010 8:45",
         "1.95",
         "12583.0",
         "France"
        ],
        [
         "38",
         "536370",
         "22661",
         "CHARLOTTE BAG DOLLY GIRL DESIGN",
         "20",
         "12/1/2010 8:45",
         "0.85",
         "12583.0",
         "France"
        ],
        [
         "39",
         "536370",
         "21731",
         "RED TOADSTOOL LED NIGHT LIGHT",
         "24",
         "12/1/2010 8:45",
         "1.65",
         "12583.0",
         "France"
        ],
        [
         "40",
         "536370",
         "22900",
         " SET 2 TEA TOWELS I LOVE LONDON ",
         "24",
         "12/1/2010 8:45",
         "2.95",
         "12583.0",
         "France"
        ],
        [
         "41",
         "536370",
         "21913",
         "VINTAGE SEASIDE JIGSAW PUZZLES",
         "12",
         "12/1/2010 8:45",
         "3.75",
         "12583.0",
         "France"
        ],
        [
         "42",
         "536370",
         "22540",
         "MINI JIGSAW CIRCUS PARADE ",
         "24",
         "12/1/2010 8:45",
         "0.42",
         "12583.0",
         "France"
        ],
        [
         "43",
         "536370",
         "22544",
         "MINI JIGSAW SPACEBOY",
         "24",
         "12/1/2010 8:45",
         "0.42",
         "12583.0",
         "France"
        ],
        [
         "44",
         "536370",
         "22492",
         "MINI PAINT SET VINTAGE ",
         "36",
         "12/1/2010 8:45",
         "0.65",
         "12583.0",
         "France"
        ],
        [
         "45",
         "536370",
         "POST",
         "POSTAGE",
         "3",
         "12/1/2010 8:45",
         "18.0",
         "12583.0",
         "France"
        ],
        [
         "46",
         "536371",
         "22086",
         "PAPER CHAIN KIT 50'S CHRISTMAS ",
         "80",
         "12/1/2010 9:00",
         "2.55",
         "13748.0",
         "United Kingdom"
        ],
        [
         "47",
         "536372",
         "22632",
         "HAND WARMER RED POLKA DOT",
         "6",
         "12/1/2010 9:01",
         "1.85",
         "17850.0",
         "United Kingdom"
        ],
        [
         "48",
         "536372",
         "22633",
         "HAND WARMER UNION JACK",
         "6",
         "12/1/2010 9:01",
         "1.85",
         "17850.0",
         "United Kingdom"
        ],
        [
         "49",
         "536373",
         "85123A",
         "WHITE HANGING HEART T-LIGHT HOLDER",
         "6",
         "12/1/2010 9:02",
         "2.55",
         "17850.0",
         "United Kingdom"
        ]
       ],
       "shape": {
        "columns": 8,
        "rows": 541909
       }
      },
      "text/html": [
       "<div>\n",
       "<style scoped>\n",
       "    .dataframe tbody tr th:only-of-type {\n",
       "        vertical-align: middle;\n",
       "    }\n",
       "\n",
       "    .dataframe tbody tr th {\n",
       "        vertical-align: top;\n",
       "    }\n",
       "\n",
       "    .dataframe thead th {\n",
       "        text-align: right;\n",
       "    }\n",
       "</style>\n",
       "<table border=\"1\" class=\"dataframe\">\n",
       "  <thead>\n",
       "    <tr style=\"text-align: right;\">\n",
       "      <th></th>\n",
       "      <th>InvoiceNo</th>\n",
       "      <th>StockCode</th>\n",
       "      <th>Description</th>\n",
       "      <th>Quantity</th>\n",
       "      <th>InvoiceDate</th>\n",
       "      <th>UnitPrice</th>\n",
       "      <th>CustomerID</th>\n",
       "      <th>Country</th>\n",
       "    </tr>\n",
       "  </thead>\n",
       "  <tbody>\n",
       "    <tr>\n",
       "      <th>0</th>\n",
       "      <td>536365</td>\n",
       "      <td>85123A</td>\n",
       "      <td>WHITE HANGING HEART T-LIGHT HOLDER</td>\n",
       "      <td>6</td>\n",
       "      <td>12/1/2010 8:26</td>\n",
       "      <td>2.55</td>\n",
       "      <td>17850.0</td>\n",
       "      <td>United Kingdom</td>\n",
       "    </tr>\n",
       "    <tr>\n",
       "      <th>1</th>\n",
       "      <td>536365</td>\n",
       "      <td>71053</td>\n",
       "      <td>WHITE METAL LANTERN</td>\n",
       "      <td>6</td>\n",
       "      <td>12/1/2010 8:26</td>\n",
       "      <td>3.39</td>\n",
       "      <td>17850.0</td>\n",
       "      <td>United Kingdom</td>\n",
       "    </tr>\n",
       "    <tr>\n",
       "      <th>2</th>\n",
       "      <td>536365</td>\n",
       "      <td>84406B</td>\n",
       "      <td>CREAM CUPID HEARTS COAT HANGER</td>\n",
       "      <td>8</td>\n",
       "      <td>12/1/2010 8:26</td>\n",
       "      <td>2.75</td>\n",
       "      <td>17850.0</td>\n",
       "      <td>United Kingdom</td>\n",
       "    </tr>\n",
       "    <tr>\n",
       "      <th>3</th>\n",
       "      <td>536365</td>\n",
       "      <td>84029G</td>\n",
       "      <td>KNITTED UNION FLAG HOT WATER BOTTLE</td>\n",
       "      <td>6</td>\n",
       "      <td>12/1/2010 8:26</td>\n",
       "      <td>3.39</td>\n",
       "      <td>17850.0</td>\n",
       "      <td>United Kingdom</td>\n",
       "    </tr>\n",
       "    <tr>\n",
       "      <th>4</th>\n",
       "      <td>536365</td>\n",
       "      <td>84029E</td>\n",
       "      <td>RED WOOLLY HOTTIE WHITE HEART.</td>\n",
       "      <td>6</td>\n",
       "      <td>12/1/2010 8:26</td>\n",
       "      <td>3.39</td>\n",
       "      <td>17850.0</td>\n",
       "      <td>United Kingdom</td>\n",
       "    </tr>\n",
       "    <tr>\n",
       "      <th>...</th>\n",
       "      <td>...</td>\n",
       "      <td>...</td>\n",
       "      <td>...</td>\n",
       "      <td>...</td>\n",
       "      <td>...</td>\n",
       "      <td>...</td>\n",
       "      <td>...</td>\n",
       "      <td>...</td>\n",
       "    </tr>\n",
       "    <tr>\n",
       "      <th>541904</th>\n",
       "      <td>581587</td>\n",
       "      <td>22613</td>\n",
       "      <td>PACK OF 20 SPACEBOY NAPKINS</td>\n",
       "      <td>12</td>\n",
       "      <td>12/9/2011 12:50</td>\n",
       "      <td>0.85</td>\n",
       "      <td>12680.0</td>\n",
       "      <td>France</td>\n",
       "    </tr>\n",
       "    <tr>\n",
       "      <th>541905</th>\n",
       "      <td>581587</td>\n",
       "      <td>22899</td>\n",
       "      <td>CHILDREN'S APRON DOLLY GIRL</td>\n",
       "      <td>6</td>\n",
       "      <td>12/9/2011 12:50</td>\n",
       "      <td>2.10</td>\n",
       "      <td>12680.0</td>\n",
       "      <td>France</td>\n",
       "    </tr>\n",
       "    <tr>\n",
       "      <th>541906</th>\n",
       "      <td>581587</td>\n",
       "      <td>23254</td>\n",
       "      <td>CHILDRENS CUTLERY DOLLY GIRL</td>\n",
       "      <td>4</td>\n",
       "      <td>12/9/2011 12:50</td>\n",
       "      <td>4.15</td>\n",
       "      <td>12680.0</td>\n",
       "      <td>France</td>\n",
       "    </tr>\n",
       "    <tr>\n",
       "      <th>541907</th>\n",
       "      <td>581587</td>\n",
       "      <td>23255</td>\n",
       "      <td>CHILDRENS CUTLERY CIRCUS PARADE</td>\n",
       "      <td>4</td>\n",
       "      <td>12/9/2011 12:50</td>\n",
       "      <td>4.15</td>\n",
       "      <td>12680.0</td>\n",
       "      <td>France</td>\n",
       "    </tr>\n",
       "    <tr>\n",
       "      <th>541908</th>\n",
       "      <td>581587</td>\n",
       "      <td>22138</td>\n",
       "      <td>BAKING SET 9 PIECE RETROSPOT</td>\n",
       "      <td>3</td>\n",
       "      <td>12/9/2011 12:50</td>\n",
       "      <td>4.95</td>\n",
       "      <td>12680.0</td>\n",
       "      <td>France</td>\n",
       "    </tr>\n",
       "  </tbody>\n",
       "</table>\n",
       "<p>541909 rows × 8 columns</p>\n",
       "</div>"
      ],
      "text/plain": [
       "       InvoiceNo StockCode                          Description  Quantity  \\\n",
       "0         536365    85123A   WHITE HANGING HEART T-LIGHT HOLDER         6   \n",
       "1         536365     71053                  WHITE METAL LANTERN         6   \n",
       "2         536365    84406B       CREAM CUPID HEARTS COAT HANGER         8   \n",
       "3         536365    84029G  KNITTED UNION FLAG HOT WATER BOTTLE         6   \n",
       "4         536365    84029E       RED WOOLLY HOTTIE WHITE HEART.         6   \n",
       "...          ...       ...                                  ...       ...   \n",
       "541904    581587     22613          PACK OF 20 SPACEBOY NAPKINS        12   \n",
       "541905    581587     22899         CHILDREN'S APRON DOLLY GIRL          6   \n",
       "541906    581587     23254        CHILDRENS CUTLERY DOLLY GIRL          4   \n",
       "541907    581587     23255      CHILDRENS CUTLERY CIRCUS PARADE         4   \n",
       "541908    581587     22138        BAKING SET 9 PIECE RETROSPOT          3   \n",
       "\n",
       "            InvoiceDate  UnitPrice  CustomerID         Country  \n",
       "0        12/1/2010 8:26       2.55     17850.0  United Kingdom  \n",
       "1        12/1/2010 8:26       3.39     17850.0  United Kingdom  \n",
       "2        12/1/2010 8:26       2.75     17850.0  United Kingdom  \n",
       "3        12/1/2010 8:26       3.39     17850.0  United Kingdom  \n",
       "4        12/1/2010 8:26       3.39     17850.0  United Kingdom  \n",
       "...                 ...        ...         ...             ...  \n",
       "541904  12/9/2011 12:50       0.85     12680.0          France  \n",
       "541905  12/9/2011 12:50       2.10     12680.0          France  \n",
       "541906  12/9/2011 12:50       4.15     12680.0          France  \n",
       "541907  12/9/2011 12:50       4.15     12680.0          France  \n",
       "541908  12/9/2011 12:50       4.95     12680.0          France  \n",
       "\n",
       "[541909 rows x 8 columns]"
      ]
     },
     "execution_count": 1,
     "metadata": {},
     "output_type": "execute_result"
    }
   ],
   "source": [
    "import pandas as pd\n",
    "import numpy as np\n",
    "import matplotlib.pyplot as plt\n",
    "import seaborn as sns\n",
    "from collections import Counter\n",
    "from itertools import combinations\n",
    "import networkx as nx\n",
    "import plotly.express as px\n",
    "import plotly.graph_objects as go\n",
    "# import scikit-learn as sklearn\n",
    "# import regex as re\n",
    "from dateutil.relativedelta import relativedelta\n",
    "\n",
    "# import opendatasets\n",
    "# opendatasets.download('https://www.kaggle.com/datasets/vijayuv/onlineretail')\n",
    "\n",
    "\n",
    "data = pd.read_csv('onlineretail/OnlineRetail.csv', encoding='ISO-8859-1')\n",
    "data"
   ]
  },
  {
   "cell_type": "markdown",
   "id": "0615a9a1",
   "metadata": {},
   "source": [
    "# 1. Data Quality & Overview"
   ]
  },
  {
   "cell_type": "markdown",
   "id": "1c592059",
   "metadata": {},
   "source": [
    "### 1.1) What is the time period covered in the dataset and how many unique customers are there?"
   ]
  },
  {
   "cell_type": "code",
   "execution_count": null,
   "id": "9cdebdf6",
   "metadata": {},
   "outputs": [],
   "source": []
  },
  {
   "cell_type": "markdown",
   "id": "a3d9e8e7",
   "metadata": {},
   "source": [
    "### 1.2) Are there missing values, particularly in critical fields like CustomerID, prices, or transaction dates?"
   ]
  },
  {
   "cell_type": "code",
   "execution_count": null,
   "id": "688e86a5",
   "metadata": {},
   "outputs": [],
   "source": []
  },
  {
   "cell_type": "markdown",
   "id": "74a7a4ad",
   "metadata": {},
   "source": [
    "### 1.3) What is the geographical distribution of customers?"
   ]
  },
  {
   "cell_type": "code",
   "execution_count": null,
   "id": "b9e9b581",
   "metadata": {},
   "outputs": [],
   "source": []
  },
  {
   "cell_type": "markdown",
   "id": "d06195cc",
   "metadata": {},
   "source": [
    "### 1.4) Are there outliers in purchase quantities or prices that might skew the analysis?\n"
   ]
  },
  {
   "cell_type": "code",
   "execution_count": null,
   "id": "f18d9679",
   "metadata": {},
   "outputs": [],
   "source": []
  },
  {
   "cell_type": "markdown",
   "id": "1930a5da",
   "metadata": {},
   "source": [
    "# 2. Purchase Behavior Analysis"
   ]
  },
  {
   "cell_type": "markdown",
   "id": "ceffd5f0",
   "metadata": {},
   "source": [
    "### 2.1) What is the average order value across all customers?"
   ]
  },
  {
   "cell_type": "code",
   "execution_count": null,
   "id": "0bd79b1d",
   "metadata": {},
   "outputs": [],
   "source": []
  },
  {
   "cell_type": "markdown",
   "id": "f023c00d",
   "metadata": {},
   "source": [
    "### 2.2) How frequently do customers make repeat purchases?"
   ]
  },
  {
   "cell_type": "code",
   "execution_count": null,
   "id": "54c212f7",
   "metadata": {},
   "outputs": [],
   "source": []
  },
  {
   "cell_type": "markdown",
   "id": "6ea45445",
   "metadata": {},
   "source": [
    "### 2.3) What is the typical time gap between consecutive purchases for returning customers?"
   ]
  },
  {
   "cell_type": "code",
   "execution_count": null,
   "id": "9d8a83a4",
   "metadata": {},
   "outputs": [],
   "source": []
  },
  {
   "cell_type": "markdown",
   "id": "c606cba4",
   "metadata": {},
   "source": [
    "### 2.4) Is there a correlation between purchase frequency and average order value?"
   ]
  },
  {
   "cell_type": "code",
   "execution_count": null,
   "id": "361dd19c",
   "metadata": {},
   "outputs": [],
   "source": []
  },
  {
   "cell_type": "markdown",
   "id": "574b7119",
   "metadata": {},
   "source": [
    "# 3. Customer Segmentation Questions"
   ]
  },
  {
   "cell_type": "markdown",
   "id": "f2ead5ca",
   "metadata": {},
   "source": [
    "### 3.1) How many one-time vs. repeat customers are in the dataset?"
   ]
  },
  {
   "cell_type": "code",
   "execution_count": null,
   "id": "f6c705ff",
   "metadata": {},
   "outputs": [],
   "source": []
  },
  {
   "cell_type": "markdown",
   "id": "b765eb89",
   "metadata": {},
   "source": [
    "### 3.2) How do the RFM (Recency, Frequency, Monetary) metrics distribute across customers?"
   ]
  },
  {
   "cell_type": "code",
   "execution_count": null,
   "id": "86aa36de",
   "metadata": {},
   "outputs": [],
   "source": []
  },
  {
   "cell_type": "markdown",
   "id": "86abb3b2",
   "metadata": {},
   "source": [
    "### 3.3) What proportion of customers fall into each RFM segment?"
   ]
  },
  {
   "cell_type": "code",
   "execution_count": null,
   "id": "d097e2d4",
   "metadata": {},
   "outputs": [],
   "source": []
  },
  {
   "cell_type": "markdown",
   "id": "e6cfdd5b",
   "metadata": {},
   "source": [
    "### 3.4) Which segment contributes the most to total revenue?"
   ]
  },
  {
   "cell_type": "code",
   "execution_count": null,
   "id": "2b08c298",
   "metadata": {},
   "outputs": [],
   "source": []
  },
  {
   "cell_type": "markdown",
   "id": "e8b19286",
   "metadata": {},
   "source": [
    "# 4. CLV Analysis"
   ]
  },
  {
   "cell_type": "markdown",
   "id": "4763a8a4",
   "metadata": {},
   "source": [
    "### 4.1) What is the distribution of Customer Lifetime Value across the customer base?"
   ]
  },
  {
   "cell_type": "code",
   "execution_count": null,
   "id": "3ec589e3",
   "metadata": {},
   "outputs": [],
   "source": []
  },
  {
   "cell_type": "markdown",
   "id": "67437be6",
   "metadata": {},
   "source": [
    "### 4.2) What is the average and median CLV?"
   ]
  },
  {
   "cell_type": "code",
   "execution_count": null,
   "id": "83fc7b39",
   "metadata": {},
   "outputs": [],
   "source": []
  },
  {
   "cell_type": "markdown",
   "id": "3a669c1b",
   "metadata": {},
   "source": [
    "### 4.3) What percentage of customers account for 80% of the total CLV (Pareto principle)?"
   ]
  },
  {
   "cell_type": "code",
   "execution_count": null,
   "id": "c3471db1",
   "metadata": {},
   "outputs": [],
   "source": []
  },
  {
   "cell_type": "markdown",
   "id": "31bbd32b",
   "metadata": {},
   "source": [
    "### 4.4) How does CLV vary across different countries or regions?"
   ]
  },
  {
   "cell_type": "code",
   "execution_count": null,
   "id": "e90a955f",
   "metadata": {},
   "outputs": [],
   "source": []
  },
  {
   "cell_type": "markdown",
   "id": "a8c6fb3d",
   "metadata": {},
   "source": [
    "# 5. Temporal Analysis"
   ]
  },
  {
   "cell_type": "markdown",
   "id": "90efc344",
   "metadata": {},
   "source": [
    "### 5.1) Are there seasonal patterns in customer purchasing behavior?"
   ]
  },
  {
   "cell_type": "code",
   "execution_count": null,
   "id": "c630cb12",
   "metadata": {},
   "outputs": [],
   "source": []
  },
  {
   "cell_type": "markdown",
   "id": "a6974db0",
   "metadata": {},
   "source": [
    "### 5.2) Do certain months or quarters show higher customer acquisition or spending?"
   ]
  },
  {
   "cell_type": "code",
   "execution_count": null,
   "id": "52f24c90",
   "metadata": {},
   "outputs": [],
   "source": []
  },
  {
   "cell_type": "markdown",
   "id": "60a77e2e",
   "metadata": {},
   "source": [
    "### 5.3) Is there evidence of customer value increasing or decreasing over time?"
   ]
  },
  {
   "cell_type": "code",
   "execution_count": null,
   "id": "4971c08c",
   "metadata": {},
   "outputs": [],
   "source": []
  },
  {
   "cell_type": "markdown",
   "id": "82bf94a9",
   "metadata": {},
   "source": [
    "### 5.4) How does the retention rate vary over different customer cohorts?"
   ]
  },
  {
   "cell_type": "code",
   "execution_count": null,
   "id": "2ab25a26",
   "metadata": {},
   "outputs": [],
   "source": []
  },
  {
   "cell_type": "markdown",
   "id": "50e1d7e9",
   "metadata": {},
   "source": [
    "# 6. Product Analysis in Relation to CLV"
   ]
  },
  {
   "cell_type": "markdown",
   "id": "f9c0ae47",
   "metadata": {},
   "source": [
    "### 6.1) Do customers who purchase specific product categories have higher CLV?"
   ]
  },
  {
   "cell_type": "code",
   "execution_count": null,
   "id": "3d6bcb8b",
   "metadata": {},
   "outputs": [],
   "source": []
  },
  {
   "cell_type": "markdown",
   "id": "af102913",
   "metadata": {},
   "source": [
    "### 6.2) Is there a correlation between product diversity (number of different products purchased) and CLV?"
   ]
  },
  {
   "cell_type": "code",
   "execution_count": null,
   "id": "c769bf5b",
   "metadata": {},
   "outputs": [],
   "source": []
  },
  {
   "cell_type": "markdown",
   "id": "7170241b",
   "metadata": {},
   "source": [
    "### 6.3) Which products are most frequently purchased by high-value customers?"
   ]
  },
  {
   "cell_type": "code",
   "execution_count": null,
   "id": "ba8ce49e",
   "metadata": {},
   "outputs": [],
   "source": []
  },
  {
   "cell_type": "markdown",
   "id": "46ff50ac",
   "metadata": {},
   "source": [
    "# 7. Customer Lifecycle Patterns"
   ]
  },
  {
   "cell_type": "markdown",
   "id": "9ef0dc26",
   "metadata": {},
   "source": [
    "### 7.1) What is the typical customer lifecycle from first purchase to becoming inactive?"
   ]
  },
  {
   "cell_type": "code",
   "execution_count": null,
   "id": "37d9e66f",
   "metadata": {},
   "outputs": [],
   "source": []
  },
  {
   "cell_type": "markdown",
   "id": "b3351030",
   "metadata": {},
   "source": [
    "### 7.2) At what point do most customers churn or become inactive?"
   ]
  },
  {
   "cell_type": "code",
   "execution_count": null,
   "id": "9e23af79",
   "metadata": {},
   "outputs": [],
   "source": []
  },
  {
   "cell_type": "markdown",
   "id": "4c28a5b6",
   "metadata": {},
   "source": [
    "### 7.3) Are there identifiable signals that precede customer churn?"
   ]
  },
  {
   "cell_type": "code",
   "execution_count": null,
   "id": "be655339",
   "metadata": {},
   "outputs": [],
   "source": []
  },
  {
   "cell_type": "markdown",
   "id": "501a2cfe",
   "metadata": {},
   "source": [
    "### 7.4) How does purchase behavior evolve throughout the customer lifecycle?"
   ]
  },
  {
   "cell_type": "code",
   "execution_count": null,
   "id": "c93a80ad",
   "metadata": {},
   "outputs": [],
   "source": []
  },
  {
   "cell_type": "markdown",
   "id": "0c621a22",
   "metadata": {},
   "source": [
    "# 8. Business Impact Questions"
   ]
  },
  {
   "cell_type": "markdown",
   "id": "4b3358f1",
   "metadata": {},
   "source": [
    "### 8.1) What would be the financial impact of improving customer retention by X%?"
   ]
  },
  {
   "cell_type": "code",
   "execution_count": null,
   "id": "d5ed91d3",
   "metadata": {},
   "outputs": [],
   "source": []
  },
  {
   "cell_type": "markdown",
   "id": "8ce27590",
   "metadata": {},
   "source": [
    "### 8.2) What is the estimated future value of the current customer base?"
   ]
  },
  {
   "cell_type": "code",
   "execution_count": null,
   "id": "06e92fb5",
   "metadata": {},
   "outputs": [],
   "source": []
  },
  {
   "cell_type": "markdown",
   "id": "02bebebb",
   "metadata": {},
   "source": [
    "### 8.3) Which customer segments should be prioritized for retention efforts?"
   ]
  },
  {
   "cell_type": "code",
   "execution_count": null,
   "id": "5c176106",
   "metadata": {},
   "outputs": [],
   "source": []
  },
  {
   "cell_type": "markdown",
   "id": "cd1ce7c7",
   "metadata": {},
   "source": [
    "### 8.4) How much should the company be willing to spend on customer acquisition based on CLV?"
   ]
  },
  {
   "cell_type": "code",
   "execution_count": null,
   "id": "9e9fca4c",
   "metadata": {},
   "outputs": [],
   "source": []
  },
  {
   "cell_type": "markdown",
   "id": "d242d864",
   "metadata": {},
   "source": [
    "# 9. Relationship Analysis"
   ]
  },
  {
   "cell_type": "markdown",
   "id": "e7e51760",
   "metadata": {},
   "source": [
    "### 9.1) Is there a relationship between a customer's first purchase value and their eventual CLV?"
   ]
  },
  {
   "cell_type": "code",
   "execution_count": null,
   "id": "804c17a1",
   "metadata": {},
   "outputs": [],
   "source": []
  },
  {
   "cell_type": "markdown",
   "id": "fc7917ff",
   "metadata": {},
   "source": [
    "### 9.2) Do customers acquired during promotional periods have different lifetime values than those acquired at regular prices?"
   ]
  },
  {
   "cell_type": "code",
   "execution_count": null,
   "id": "e671100e",
   "metadata": {},
   "outputs": [],
   "source": []
  },
  {
   "cell_type": "markdown",
   "id": "a2e31971",
   "metadata": {},
   "source": [
    "### 9.3) How strongly do recency, frequency, and monetary value correlate with overall CLV?"
   ]
  },
  {
   "cell_type": "code",
   "execution_count": null,
   "id": "e34f2818",
   "metadata": {},
   "outputs": [],
   "source": []
  },
  {
   "cell_type": "markdown",
   "id": "dd59436b",
   "metadata": {},
   "source": [
    "# 10. Visualizations to Include"
   ]
  },
  {
   "cell_type": "markdown",
   "id": "11e337e9",
   "metadata": {},
   "source": [
    "### 10.1) RFM distribution heatmaps"
   ]
  },
  {
   "cell_type": "code",
   "execution_count": null,
   "id": "3ee60c42",
   "metadata": {},
   "outputs": [],
   "source": []
  },
  {
   "cell_type": "markdown",
   "id": "ef7c4bae",
   "metadata": {},
   "source": [
    "### 10.2) CLV distribution histograms"
   ]
  },
  {
   "cell_type": "code",
   "execution_count": null,
   "id": "67d6f56f",
   "metadata": {},
   "outputs": [],
   "source": []
  },
  {
   "cell_type": "markdown",
   "id": "e4212c92",
   "metadata": {},
   "source": [
    "### 10.3) Customer segment bubble chart (size = number of customers, position = avg frequency/monetary)"
   ]
  },
  {
   "cell_type": "code",
   "execution_count": null,
   "id": "acc97d2c",
   "metadata": {},
   "outputs": [],
   "source": []
  },
  {
   "cell_type": "markdown",
   "id": "ac9ab86c",
   "metadata": {},
   "source": [
    "### 10.4) Cohort retention heatmap"
   ]
  },
  {
   "cell_type": "code",
   "execution_count": null,
   "id": "b2872ea0",
   "metadata": {},
   "outputs": [],
   "source": []
  },
  {
   "cell_type": "markdown",
   "id": "c992c539",
   "metadata": {},
   "source": [
    "### 10.5) Geographic heatmap of CLV"
   ]
  },
  {
   "cell_type": "code",
   "execution_count": null,
   "id": "13361381",
   "metadata": {},
   "outputs": [],
   "source": []
  },
  {
   "cell_type": "markdown",
   "id": "49518cc5",
   "metadata": {},
   "source": [
    "### 10.6) Time series of purchasing patterns"
   ]
  },
  {
   "cell_type": "code",
   "execution_count": null,
   "id": "5b668013",
   "metadata": {},
   "outputs": [],
   "source": []
  },
  {
   "cell_type": "markdown",
   "id": "e77be368",
   "metadata": {},
   "source": [
    "### 10.7) Segment contribution pie chart"
   ]
  },
  {
   "cell_type": "code",
   "execution_count": null,
   "id": "9979b772",
   "metadata": {},
   "outputs": [],
   "source": []
  }
 ],
 "metadata": {
  "kernelspec": {
   "display_name": ".venv",
   "language": "python",
   "name": "python3"
  },
  "language_info": {
   "codemirror_mode": {
    "name": "ipython",
    "version": 3
   },
   "file_extension": ".py",
   "mimetype": "text/x-python",
   "name": "python",
   "nbconvert_exporter": "python",
   "pygments_lexer": "ipython3",
   "version": "3.12.7"
  }
 },
 "nbformat": 4,
 "nbformat_minor": 5
}
